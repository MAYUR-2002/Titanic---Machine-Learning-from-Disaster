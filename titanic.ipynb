{
 "cells": [
  {
   "cell_type": "code",
   "execution_count": 1,
   "id": "d21d6cfd",
   "metadata": {
    "_cell_guid": "b1076dfc-b9ad-4769-8c92-a6c4dae69d19",
    "_uuid": "8f2839f25d086af736a60e9eeb907d3b93b6e0e5",
    "execution": {
     "iopub.execute_input": "2021-09-27T06:20:17.319671Z",
     "iopub.status.busy": "2021-09-27T06:20:17.318692Z",
     "iopub.status.idle": "2021-09-27T06:20:17.324742Z",
     "shell.execute_reply": "2021-09-27T06:20:17.324060Z",
     "shell.execute_reply.started": "2021-09-27T06:19:22.053472Z"
    },
    "papermill": {
     "duration": 0.038017,
     "end_time": "2021-09-27T06:20:17.324985",
     "exception": false,
     "start_time": "2021-09-27T06:20:17.286968",
     "status": "completed"
    },
    "tags": []
   },
   "outputs": [
    {
     "name": "stdout",
     "output_type": "stream",
     "text": [
      "/kaggle/input/titanic/train.csv\n",
      "/kaggle/input/titanic/test.csv\n",
      "/kaggle/input/titanic/gender_submission.csv\n"
     ]
    }
   ],
   "source": [
    "# This Python 3 environment comes with many helpful analytics libraries installed\n",
    "# It is defined by the kaggle/python Docker image: https://github.com/kaggle/docker-python\n",
    "# For example, here's several helpful packages to load\n",
    "\n",
    "import numpy as np # linear algebra\n",
    "import pandas as pd # data processing, CSV file I/O (e.g. pd.read_csv)\n",
    "\n",
    "# Input data files are available in the read-only \"../input/\" directory\n",
    "# For example, running this (by clicking run or pressing Shift+Enter) will list all files under the input directory\n",
    "\n",
    "import os\n",
    "for dirname, _, filenames in os.walk('/kaggle/input'):\n",
    "    for filename in filenames:\n",
    "        print(os.path.join(dirname, filename))\n",
    "\n",
    "# You can write up to 20GB to the current directory (/kaggle/working/) that gets preserved as output when you create a version using \"Save & Run All\" \n",
    "# You can also write temporary files to /kaggle/temp/, but they won't be saved outside of the current session"
   ]
  },
  {
   "cell_type": "code",
   "execution_count": 2,
   "id": "8efe736a",
   "metadata": {
    "execution": {
     "iopub.execute_input": "2021-09-27T06:20:17.366955Z",
     "iopub.status.busy": "2021-09-27T06:20:17.366252Z",
     "iopub.status.idle": "2021-09-27T06:20:18.696219Z",
     "shell.execute_reply": "2021-09-27T06:20:18.695613Z",
     "shell.execute_reply.started": "2021-09-27T06:19:22.069473Z"
    },
    "papermill": {
     "duration": 1.353148,
     "end_time": "2021-09-27T06:20:18.696380",
     "exception": false,
     "start_time": "2021-09-27T06:20:17.343232",
     "status": "completed"
    },
    "tags": []
   },
   "outputs": [],
   "source": [
    "import pandas as pd\n",
    "import numpy as np\n",
    "import matplotlib.pyplot as plt\n",
    "import seaborn as sn\n",
    "from sklearn.linear_model import LogisticRegression\n"
   ]
  },
  {
   "cell_type": "code",
   "execution_count": 3,
   "id": "c82e1e7e",
   "metadata": {
    "execution": {
     "iopub.execute_input": "2021-09-27T06:20:18.734978Z",
     "iopub.status.busy": "2021-09-27T06:20:18.734291Z",
     "iopub.status.idle": "2021-09-27T06:20:18.766922Z",
     "shell.execute_reply": "2021-09-27T06:20:18.767441Z",
     "shell.execute_reply.started": "2021-09-27T06:19:22.078937Z"
    },
    "papermill": {
     "duration": 0.05366,
     "end_time": "2021-09-27T06:20:18.767632",
     "exception": false,
     "start_time": "2021-09-27T06:20:18.713972",
     "status": "completed"
    },
    "tags": []
   },
   "outputs": [],
   "source": [
    "train=pd.read_csv('/kaggle/input/titanic/train.csv')\n",
    "test=pd.read_csv('/kaggle/input/titanic/test.csv')\n",
    "\n",
    "# Creating a copy\n",
    "train_og=train.copy()\n",
    "test_og=test.copy()"
   ]
  },
  {
   "cell_type": "code",
   "execution_count": 4,
   "id": "47e2eb5a",
   "metadata": {
    "execution": {
     "iopub.execute_input": "2021-09-27T06:20:18.806682Z",
     "iopub.status.busy": "2021-09-27T06:20:18.806011Z",
     "iopub.status.idle": "2021-09-27T06:20:18.836272Z",
     "shell.execute_reply": "2021-09-27T06:20:18.836811Z",
     "shell.execute_reply.started": "2021-09-27T06:19:22.107569Z"
    },
    "papermill": {
     "duration": 0.051627,
     "end_time": "2021-09-27T06:20:18.837068",
     "exception": false,
     "start_time": "2021-09-27T06:20:18.785441",
     "status": "completed"
    },
    "tags": []
   },
   "outputs": [
    {
     "data": {
      "text/html": [
       "<div>\n",
       "<style scoped>\n",
       "    .dataframe tbody tr th:only-of-type {\n",
       "        vertical-align: middle;\n",
       "    }\n",
       "\n",
       "    .dataframe tbody tr th {\n",
       "        vertical-align: top;\n",
       "    }\n",
       "\n",
       "    .dataframe thead th {\n",
       "        text-align: right;\n",
       "    }\n",
       "</style>\n",
       "<table border=\"1\" class=\"dataframe\">\n",
       "  <thead>\n",
       "    <tr style=\"text-align: right;\">\n",
       "      <th></th>\n",
       "      <th>PassengerId</th>\n",
       "      <th>Survived</th>\n",
       "      <th>Pclass</th>\n",
       "      <th>Name</th>\n",
       "      <th>Sex</th>\n",
       "      <th>Age</th>\n",
       "      <th>SibSp</th>\n",
       "      <th>Parch</th>\n",
       "      <th>Ticket</th>\n",
       "      <th>Fare</th>\n",
       "      <th>Cabin</th>\n",
       "      <th>Embarked</th>\n",
       "    </tr>\n",
       "  </thead>\n",
       "  <tbody>\n",
       "    <tr>\n",
       "      <th>0</th>\n",
       "      <td>1</td>\n",
       "      <td>0</td>\n",
       "      <td>3</td>\n",
       "      <td>Braund, Mr. Owen Harris</td>\n",
       "      <td>male</td>\n",
       "      <td>22.0</td>\n",
       "      <td>1</td>\n",
       "      <td>0</td>\n",
       "      <td>A/5 21171</td>\n",
       "      <td>7.2500</td>\n",
       "      <td>NaN</td>\n",
       "      <td>S</td>\n",
       "    </tr>\n",
       "    <tr>\n",
       "      <th>1</th>\n",
       "      <td>2</td>\n",
       "      <td>1</td>\n",
       "      <td>1</td>\n",
       "      <td>Cumings, Mrs. John Bradley (Florence Briggs Th...</td>\n",
       "      <td>female</td>\n",
       "      <td>38.0</td>\n",
       "      <td>1</td>\n",
       "      <td>0</td>\n",
       "      <td>PC 17599</td>\n",
       "      <td>71.2833</td>\n",
       "      <td>C85</td>\n",
       "      <td>C</td>\n",
       "    </tr>\n",
       "    <tr>\n",
       "      <th>2</th>\n",
       "      <td>3</td>\n",
       "      <td>1</td>\n",
       "      <td>3</td>\n",
       "      <td>Heikkinen, Miss. Laina</td>\n",
       "      <td>female</td>\n",
       "      <td>26.0</td>\n",
       "      <td>0</td>\n",
       "      <td>0</td>\n",
       "      <td>STON/O2. 3101282</td>\n",
       "      <td>7.9250</td>\n",
       "      <td>NaN</td>\n",
       "      <td>S</td>\n",
       "    </tr>\n",
       "    <tr>\n",
       "      <th>3</th>\n",
       "      <td>4</td>\n",
       "      <td>1</td>\n",
       "      <td>1</td>\n",
       "      <td>Futrelle, Mrs. Jacques Heath (Lily May Peel)</td>\n",
       "      <td>female</td>\n",
       "      <td>35.0</td>\n",
       "      <td>1</td>\n",
       "      <td>0</td>\n",
       "      <td>113803</td>\n",
       "      <td>53.1000</td>\n",
       "      <td>C123</td>\n",
       "      <td>S</td>\n",
       "    </tr>\n",
       "    <tr>\n",
       "      <th>4</th>\n",
       "      <td>5</td>\n",
       "      <td>0</td>\n",
       "      <td>3</td>\n",
       "      <td>Allen, Mr. William Henry</td>\n",
       "      <td>male</td>\n",
       "      <td>35.0</td>\n",
       "      <td>0</td>\n",
       "      <td>0</td>\n",
       "      <td>373450</td>\n",
       "      <td>8.0500</td>\n",
       "      <td>NaN</td>\n",
       "      <td>S</td>\n",
       "    </tr>\n",
       "    <tr>\n",
       "      <th>5</th>\n",
       "      <td>6</td>\n",
       "      <td>0</td>\n",
       "      <td>3</td>\n",
       "      <td>Moran, Mr. James</td>\n",
       "      <td>male</td>\n",
       "      <td>NaN</td>\n",
       "      <td>0</td>\n",
       "      <td>0</td>\n",
       "      <td>330877</td>\n",
       "      <td>8.4583</td>\n",
       "      <td>NaN</td>\n",
       "      <td>Q</td>\n",
       "    </tr>\n",
       "    <tr>\n",
       "      <th>6</th>\n",
       "      <td>7</td>\n",
       "      <td>0</td>\n",
       "      <td>1</td>\n",
       "      <td>McCarthy, Mr. Timothy J</td>\n",
       "      <td>male</td>\n",
       "      <td>54.0</td>\n",
       "      <td>0</td>\n",
       "      <td>0</td>\n",
       "      <td>17463</td>\n",
       "      <td>51.8625</td>\n",
       "      <td>E46</td>\n",
       "      <td>S</td>\n",
       "    </tr>\n",
       "    <tr>\n",
       "      <th>7</th>\n",
       "      <td>8</td>\n",
       "      <td>0</td>\n",
       "      <td>3</td>\n",
       "      <td>Palsson, Master. Gosta Leonard</td>\n",
       "      <td>male</td>\n",
       "      <td>2.0</td>\n",
       "      <td>3</td>\n",
       "      <td>1</td>\n",
       "      <td>349909</td>\n",
       "      <td>21.0750</td>\n",
       "      <td>NaN</td>\n",
       "      <td>S</td>\n",
       "    </tr>\n",
       "    <tr>\n",
       "      <th>8</th>\n",
       "      <td>9</td>\n",
       "      <td>1</td>\n",
       "      <td>3</td>\n",
       "      <td>Johnson, Mrs. Oscar W (Elisabeth Vilhelmina Berg)</td>\n",
       "      <td>female</td>\n",
       "      <td>27.0</td>\n",
       "      <td>0</td>\n",
       "      <td>2</td>\n",
       "      <td>347742</td>\n",
       "      <td>11.1333</td>\n",
       "      <td>NaN</td>\n",
       "      <td>S</td>\n",
       "    </tr>\n",
       "    <tr>\n",
       "      <th>9</th>\n",
       "      <td>10</td>\n",
       "      <td>1</td>\n",
       "      <td>2</td>\n",
       "      <td>Nasser, Mrs. Nicholas (Adele Achem)</td>\n",
       "      <td>female</td>\n",
       "      <td>14.0</td>\n",
       "      <td>1</td>\n",
       "      <td>0</td>\n",
       "      <td>237736</td>\n",
       "      <td>30.0708</td>\n",
       "      <td>NaN</td>\n",
       "      <td>C</td>\n",
       "    </tr>\n",
       "  </tbody>\n",
       "</table>\n",
       "</div>"
      ],
      "text/plain": [
       "   PassengerId  Survived  Pclass  \\\n",
       "0            1         0       3   \n",
       "1            2         1       1   \n",
       "2            3         1       3   \n",
       "3            4         1       1   \n",
       "4            5         0       3   \n",
       "5            6         0       3   \n",
       "6            7         0       1   \n",
       "7            8         0       3   \n",
       "8            9         1       3   \n",
       "9           10         1       2   \n",
       "\n",
       "                                                Name     Sex   Age  SibSp  \\\n",
       "0                            Braund, Mr. Owen Harris    male  22.0      1   \n",
       "1  Cumings, Mrs. John Bradley (Florence Briggs Th...  female  38.0      1   \n",
       "2                             Heikkinen, Miss. Laina  female  26.0      0   \n",
       "3       Futrelle, Mrs. Jacques Heath (Lily May Peel)  female  35.0      1   \n",
       "4                           Allen, Mr. William Henry    male  35.0      0   \n",
       "5                                   Moran, Mr. James    male   NaN      0   \n",
       "6                            McCarthy, Mr. Timothy J    male  54.0      0   \n",
       "7                     Palsson, Master. Gosta Leonard    male   2.0      3   \n",
       "8  Johnson, Mrs. Oscar W (Elisabeth Vilhelmina Berg)  female  27.0      0   \n",
       "9                Nasser, Mrs. Nicholas (Adele Achem)  female  14.0      1   \n",
       "\n",
       "   Parch            Ticket     Fare Cabin Embarked  \n",
       "0      0         A/5 21171   7.2500   NaN        S  \n",
       "1      0          PC 17599  71.2833   C85        C  \n",
       "2      0  STON/O2. 3101282   7.9250   NaN        S  \n",
       "3      0            113803  53.1000  C123        S  \n",
       "4      0            373450   8.0500   NaN        S  \n",
       "5      0            330877   8.4583   NaN        Q  \n",
       "6      0             17463  51.8625   E46        S  \n",
       "7      1            349909  21.0750   NaN        S  \n",
       "8      2            347742  11.1333   NaN        S  \n",
       "9      0            237736  30.0708   NaN        C  "
      ]
     },
     "execution_count": 4,
     "metadata": {},
     "output_type": "execute_result"
    }
   ],
   "source": [
    "# Identifying the dataset\n",
    "test.head(10)\n",
    "train.head(10)"
   ]
  },
  {
   "cell_type": "code",
   "execution_count": 5,
   "id": "dc886eb0",
   "metadata": {
    "execution": {
     "iopub.execute_input": "2021-09-27T06:20:18.880860Z",
     "iopub.status.busy": "2021-09-27T06:20:18.879792Z",
     "iopub.status.idle": "2021-09-27T06:20:18.888293Z",
     "shell.execute_reply": "2021-09-27T06:20:18.887598Z",
     "shell.execute_reply.started": "2021-09-27T06:19:22.129595Z"
    },
    "papermill": {
     "duration": 0.033065,
     "end_time": "2021-09-27T06:20:18.888444",
     "exception": false,
     "start_time": "2021-09-27T06:20:18.855379",
     "status": "completed"
    },
    "tags": []
   },
   "outputs": [
    {
     "data": {
      "text/plain": [
       "PassengerId      0\n",
       "Pclass           0\n",
       "Name             0\n",
       "Sex              0\n",
       "Age             86\n",
       "SibSp            0\n",
       "Parch            0\n",
       "Ticket           0\n",
       "Fare             1\n",
       "Cabin          327\n",
       "Embarked         0\n",
       "dtype: int64"
      ]
     },
     "execution_count": 5,
     "metadata": {},
     "output_type": "execute_result"
    }
   ],
   "source": [
    "# Checking for null values\n",
    "train.isnull().sum()\n",
    "test.isnull().sum()"
   ]
  },
  {
   "cell_type": "code",
   "execution_count": 6,
   "id": "5f48bc20",
   "metadata": {
    "execution": {
     "iopub.execute_input": "2021-09-27T06:20:18.929967Z",
     "iopub.status.busy": "2021-09-27T06:20:18.929117Z",
     "iopub.status.idle": "2021-09-27T06:20:18.931925Z",
     "shell.execute_reply": "2021-09-27T06:20:18.932406Z",
     "shell.execute_reply.started": "2021-09-27T06:19:22.150320Z"
    },
    "papermill": {
     "duration": 0.025212,
     "end_time": "2021-09-27T06:20:18.932596",
     "exception": false,
     "start_time": "2021-09-27T06:20:18.907384",
     "status": "completed"
    },
    "tags": []
   },
   "outputs": [],
   "source": [
    "# We can see some missing values in age and cabin in train dataset\n",
    "# Same goes for test"
   ]
  },
  {
   "cell_type": "code",
   "execution_count": 7,
   "id": "c1bd5696",
   "metadata": {
    "execution": {
     "iopub.execute_input": "2021-09-27T06:20:18.973169Z",
     "iopub.status.busy": "2021-09-27T06:20:18.972122Z",
     "iopub.status.idle": "2021-09-27T06:20:18.981497Z",
     "shell.execute_reply": "2021-09-27T06:20:18.980925Z",
     "shell.execute_reply.started": "2021-09-27T06:19:22.163934Z"
    },
    "papermill": {
     "duration": 0.030732,
     "end_time": "2021-09-27T06:20:18.981662",
     "exception": false,
     "start_time": "2021-09-27T06:20:18.950930",
     "status": "completed"
    },
    "tags": []
   },
   "outputs": [
    {
     "data": {
      "text/plain": [
       "PassengerId      int64\n",
       "Pclass           int64\n",
       "Name            object\n",
       "Sex             object\n",
       "Age            float64\n",
       "SibSp            int64\n",
       "Parch            int64\n",
       "Ticket          object\n",
       "Fare           float64\n",
       "Cabin           object\n",
       "Embarked        object\n",
       "dtype: object"
      ]
     },
     "execution_count": 7,
     "metadata": {},
     "output_type": "execute_result"
    }
   ],
   "source": [
    "# Identifying for categorical, numerical variables\n",
    "train.dtypes\n",
    "test.dtypes"
   ]
  },
  {
   "cell_type": "code",
   "execution_count": 8,
   "id": "b1dfc52c",
   "metadata": {
    "execution": {
     "iopub.execute_input": "2021-09-27T06:20:19.026487Z",
     "iopub.status.busy": "2021-09-27T06:20:19.025413Z",
     "iopub.status.idle": "2021-09-27T06:20:19.027589Z",
     "shell.execute_reply": "2021-09-27T06:20:19.028116Z",
     "shell.execute_reply.started": "2021-09-27T06:19:22.181424Z"
    },
    "papermill": {
     "duration": 0.027526,
     "end_time": "2021-09-27T06:20:19.028295",
     "exception": false,
     "start_time": "2021-09-27T06:20:19.000769",
     "status": "completed"
    },
    "tags": []
   },
   "outputs": [],
   "source": [
    "# So we will predict which passenger would survive based on features of data\n",
    "# Using other columns as predictors"
   ]
  },
  {
   "cell_type": "code",
   "execution_count": 9,
   "id": "dc2edd82",
   "metadata": {
    "execution": {
     "iopub.execute_input": "2021-09-27T06:20:19.081455Z",
     "iopub.status.busy": "2021-09-27T06:20:19.070168Z",
     "iopub.status.idle": "2021-09-27T06:20:20.040180Z",
     "shell.execute_reply": "2021-09-27T06:20:20.040670Z",
     "shell.execute_reply.started": "2021-09-27T06:19:22.194201Z"
    },
    "papermill": {
     "duration": 0.993805,
     "end_time": "2021-09-27T06:20:20.040876",
     "exception": false,
     "start_time": "2021-09-27T06:20:19.047071",
     "status": "completed"
    },
    "tags": []
   },
   "outputs": [
    {
     "data": {
      "image/png": "[encoded data removed]",
      "text/plain": [
       "<Figure size 432x288 with 1 Axes>"
      ]
     },
     "metadata": {
      "needs_background": "light"
     },
     "output_type": "display_data"
    },
    {
     "data": {
      "image/png": "[encoded data removed]",
      "text/plain": [
       "<Figure size 432x288 with 1 Axes>"
      ]
     },
     "metadata": {
      "needs_background": "light"
     },
     "output_type": "display_data"
    },
    {
     "data": {
      "image/png": "[encoded data removed]",
      "text/plain": [
       "<Figure size 432x288 with 1 Axes>"
      ]
     },
     "metadata": {
      "needs_background": "light"
     },
     "output_type": "display_data"
    },
    {
     "name": "stderr",
     "output_type": "stream",
     "text": [
      "/opt/conda/lib/python3.7/site-packages/seaborn/distributions.py:2619: FutureWarning: `distplot` is a deprecated function and will be removed in a future version. Please adapt your code to use either `displot` (a figure-level function with similar flexibility) or `histplot` (an axes-level function for histograms).\n",
      "  warnings.warn(msg, FutureWarning)\n"
     ]
    },
    {
     "data": {
      "text/plain": [
       "Text(0.5, 1.0, 'Age Distribution')"
      ]
     },
     "execution_count": 9,
     "metadata": {},
     "output_type": "execute_result"
    },
    {
     "data": {
      "image/png": "[encoded data removed]",
      "text/plain": [
       "<Figure size 432x288 with 1 Axes>"
      ]
     },
     "metadata": {
      "needs_background": "light"
     },
     "output_type": "display_data"
    }
   ],
   "source": [
    "# Visualization part and checking for outliers\n",
    "# Target variable\n",
    "train['Survived'].value_counts().plot.bar(title='Survived')\n",
    "plt.show()\n",
    "# Predictors\n",
    "train['Pclass'].value_counts().plot.bar(title='Pclass')\n",
    "plt.show()\n",
    "train['Sex'].value_counts().plot.bar(title='Gender')\n",
    "plt.show()\n",
    "sn.distplot(train['Age'])\n",
    "plt.title('Age Distribution')"
   ]
  },
  {
   "cell_type": "code",
   "execution_count": 10,
   "id": "859d0d69",
   "metadata": {
    "execution": {
     "iopub.execute_input": "2021-09-27T06:20:20.090889Z",
     "iopub.status.busy": "2021-09-27T06:20:20.089881Z",
     "iopub.status.idle": "2021-09-27T06:20:20.093092Z",
     "shell.execute_reply": "2021-09-27T06:20:20.092489Z",
     "shell.execute_reply.started": "2021-09-27T06:19:22.998691Z"
    },
    "papermill": {
     "duration": 0.029881,
     "end_time": "2021-09-27T06:20:20.093241",
     "exception": false,
     "start_time": "2021-09-27T06:20:20.063360",
     "status": "completed"
    },
    "tags": []
   },
   "outputs": [],
   "source": [
    "# As we can see our predictors are fairly normaly distributed\n",
    "# So there is no need for outliers treatment"
   ]
  },
  {
   "cell_type": "code",
   "execution_count": 11,
   "id": "9216c111",
   "metadata": {
    "execution": {
     "iopub.execute_input": "2021-09-27T06:20:20.146164Z",
     "iopub.status.busy": "2021-09-27T06:20:20.145149Z",
     "iopub.status.idle": "2021-09-27T06:20:20.487210Z",
     "shell.execute_reply": "2021-09-27T06:20:20.486554Z",
     "shell.execute_reply.started": "2021-09-27T06:19:23.005527Z"
    },
    "papermill": {
     "duration": 0.371796,
     "end_time": "2021-09-27T06:20:20.487354",
     "exception": false,
     "start_time": "2021-09-27T06:20:20.115558",
     "status": "completed"
    },
    "tags": []
   },
   "outputs": [
    {
     "data": {
      "text/plain": [
       "<AxesSubplot:>"
      ]
     },
     "execution_count": 11,
     "metadata": {},
     "output_type": "execute_result"
    },
    {
     "data": {
      "image/png": "[encoded data removed]",
      "text/plain": [
       "<Figure size 432x288 with 2 Axes>"
      ]
     },
     "metadata": {
      "needs_background": "light"
     },
     "output_type": "display_data"
    }
   ],
   "source": [
    "train.corr()\n",
    "sn.heatmap(train.corr())"
   ]
  },
  {
   "cell_type": "code",
   "execution_count": 12,
   "id": "f085891e",
   "metadata": {
    "execution": {
     "iopub.execute_input": "2021-09-27T06:20:20.539755Z",
     "iopub.status.busy": "2021-09-27T06:20:20.536725Z",
     "iopub.status.idle": "2021-09-27T06:20:20.542077Z",
     "shell.execute_reply": "2021-09-27T06:20:20.542562Z",
     "shell.execute_reply.started": "2021-09-27T06:19:23.319889Z"
    },
    "papermill": {
     "duration": 0.031837,
     "end_time": "2021-09-27T06:20:20.542742",
     "exception": false,
     "start_time": "2021-09-27T06:20:20.510905",
     "status": "completed"
    },
    "tags": []
   },
   "outputs": [],
   "source": [
    "# Data Cleaning\n",
    "\n",
    "impute_value=train['Age'].mean()\n",
    "train.fillna({'Age':impute_value},inplace=True)"
   ]
  },
  {
   "cell_type": "code",
   "execution_count": 13,
   "id": "6d8d74e7",
   "metadata": {
    "execution": {
     "iopub.execute_input": "2021-09-27T06:20:20.595861Z",
     "iopub.status.busy": "2021-09-27T06:20:20.595130Z",
     "iopub.status.idle": "2021-09-27T06:20:20.597774Z",
     "shell.execute_reply": "2021-09-27T06:20:20.597267Z",
     "shell.execute_reply.started": "2021-09-27T06:19:23.330188Z"
    },
    "papermill": {
     "duration": 0.032032,
     "end_time": "2021-09-27T06:20:20.597942",
     "exception": false,
     "start_time": "2021-09-27T06:20:20.565910",
     "status": "completed"
    },
    "tags": []
   },
   "outputs": [],
   "source": [
    "# Removing Columns\n",
    "train.drop(columns=['Cabin'],axis=1,inplace=True)"
   ]
  },
  {
   "cell_type": "code",
   "execution_count": 14,
   "id": "0144c3d0",
   "metadata": {
    "execution": {
     "iopub.execute_input": "2021-09-27T06:20:20.651028Z",
     "iopub.status.busy": "2021-09-27T06:20:20.650341Z",
     "iopub.status.idle": "2021-09-27T06:20:20.656252Z",
     "shell.execute_reply": "2021-09-27T06:20:20.656702Z",
     "shell.execute_reply.started": "2021-09-27T06:19:23.347575Z"
    },
    "papermill": {
     "duration": 0.035546,
     "end_time": "2021-09-27T06:20:20.656899",
     "exception": false,
     "start_time": "2021-09-27T06:20:20.621353",
     "status": "completed"
    },
    "tags": []
   },
   "outputs": [
    {
     "data": {
      "text/plain": [
       "PassengerId    0\n",
       "Survived       0\n",
       "Pclass         0\n",
       "Name           0\n",
       "Sex            0\n",
       "Age            0\n",
       "SibSp          0\n",
       "Parch          0\n",
       "Ticket         0\n",
       "Fare           0\n",
       "Embarked       2\n",
       "dtype: int64"
      ]
     },
     "execution_count": 14,
     "metadata": {},
     "output_type": "execute_result"
    }
   ],
   "source": [
    "train.isnull().sum()"
   ]
  },
  {
   "cell_type": "code",
   "execution_count": 15,
   "id": "17835f55",
   "metadata": {
    "execution": {
     "iopub.execute_input": "2021-09-27T06:20:20.712141Z",
     "iopub.status.busy": "2021-09-27T06:20:20.710434Z",
     "iopub.status.idle": "2021-09-27T06:20:20.715361Z",
     "shell.execute_reply": "2021-09-27T06:20:20.714804Z",
     "shell.execute_reply.started": "2021-09-27T06:19:23.365705Z"
    },
    "papermill": {
     "duration": 0.035024,
     "end_time": "2021-09-27T06:20:20.715501",
     "exception": false,
     "start_time": "2021-09-27T06:20:20.680477",
     "status": "completed"
    },
    "tags": []
   },
   "outputs": [],
   "source": [
    "# We will create some model variables and arrays\n",
    "train['IsFemale']=(train['Sex']=='female').astype(int)\n",
    "test['IsFemale']=(test['Sex']=='female').astype(int)\n"
   ]
  },
  {
   "cell_type": "code",
   "execution_count": 16,
   "id": "adc4ba97",
   "metadata": {
    "execution": {
     "iopub.execute_input": "2021-09-27T06:20:20.772849Z",
     "iopub.status.busy": "2021-09-27T06:20:20.769151Z",
     "iopub.status.idle": "2021-09-27T06:20:20.777118Z",
     "shell.execute_reply": "2021-09-27T06:20:20.776518Z",
     "shell.execute_reply.started": "2021-09-27T06:19:23.378050Z"
    },
    "papermill": {
     "duration": 0.038103,
     "end_time": "2021-09-27T06:20:20.777273",
     "exception": false,
     "start_time": "2021-09-27T06:20:20.739170",
     "status": "completed"
    },
    "tags": []
   },
   "outputs": [
    {
     "data": {
      "text/plain": [
       "array([0, 1, 1, 1, 0])"
      ]
     },
     "execution_count": 16,
     "metadata": {},
     "output_type": "execute_result"
    }
   ],
   "source": [
    "# Creating some model variables and create numpy arrays\n",
    "predictors=[\"Pclass\",\"IsFemale\",'Age']\n",
    "X_train=train[predictors].values\n",
    "X_test=test[predictors].values\n",
    "y_train=train['Survived'].values\n",
    "\n",
    "X_train[:5]\n",
    "y_train[:5]"
   ]
  },
  {
   "cell_type": "code",
   "execution_count": 17,
   "id": "2c0673dc",
   "metadata": {
    "execution": {
     "iopub.execute_input": "2021-09-27T06:20:20.830863Z",
     "iopub.status.busy": "2021-09-27T06:20:20.828378Z",
     "iopub.status.idle": "2021-09-27T06:20:20.853780Z",
     "shell.execute_reply": "2021-09-27T06:20:20.853126Z",
     "shell.execute_reply.started": "2021-09-27T06:19:23.397664Z"
    },
    "papermill": {
     "duration": 0.052572,
     "end_time": "2021-09-27T06:20:20.853958",
     "exception": false,
     "start_time": "2021-09-27T06:20:20.801386",
     "status": "completed"
    },
    "tags": []
   },
   "outputs": [
    {
     "data": {
      "text/plain": [
       "LogisticRegression()"
      ]
     },
     "execution_count": 17,
     "metadata": {},
     "output_type": "execute_result"
    }
   ],
   "source": [
    "model=LogisticRegression()\n",
    "model.fit(X_train,y_train)"
   ]
  },
  {
   "cell_type": "code",
   "execution_count": 18,
   "id": "327ece0b",
   "metadata": {
    "execution": {
     "iopub.execute_input": "2021-09-27T06:20:20.910857Z",
     "iopub.status.busy": "2021-09-27T06:20:20.909905Z",
     "iopub.status.idle": "2021-09-27T06:20:20.913426Z",
     "shell.execute_reply": "2021-09-27T06:20:20.913943Z",
     "shell.execute_reply.started": "2021-09-27T06:19:23.429186Z"
    },
    "papermill": {
     "duration": 0.035515,
     "end_time": "2021-09-27T06:20:20.914118",
     "exception": false,
     "start_time": "2021-09-27T06:20:20.878603",
     "status": "completed"
    },
    "tags": []
   },
   "outputs": [
    {
     "data": {
      "text/plain": [
       "array([1, 1, 1, 1, 1, 1, 1, 1, 1, 1])"
      ]
     },
     "execution_count": 18,
     "metadata": {},
     "output_type": "execute_result"
    }
   ],
   "source": [
    "y_predict=model.predict(np.isfinite(X_test))\n",
    "y_predict[:10]"
   ]
  },
  {
   "cell_type": "code",
   "execution_count": 19,
   "id": "3f3b120a",
   "metadata": {
    "execution": {
     "iopub.execute_input": "2021-09-27T06:20:20.968651Z",
     "iopub.status.busy": "2021-09-27T06:20:20.966456Z",
     "iopub.status.idle": "2021-09-27T06:20:21.259473Z",
     "shell.execute_reply": "2021-09-27T06:20:21.258929Z",
     "shell.execute_reply.started": "2021-09-27T06:19:23.436422Z"
    },
    "papermill": {
     "duration": 0.320875,
     "end_time": "2021-09-27T06:20:21.259621",
     "exception": false,
     "start_time": "2021-09-27T06:20:20.938746",
     "status": "completed"
    },
    "tags": []
   },
   "outputs": [
    {
     "name": "stderr",
     "output_type": "stream",
     "text": [
      "/opt/conda/lib/python3.7/site-packages/sklearn/utils/validation.py:70: FutureWarning: Pass Cs=10 as keyword args. From version 0.25 passing these as positional arguments will result in an error\n",
      "  FutureWarning)\n"
     ]
    },
    {
     "data": {
      "text/plain": [
       "LogisticRegressionCV()"
      ]
     },
     "execution_count": 19,
     "metadata": {},
     "output_type": "execute_result"
    }
   ],
   "source": [
    "# Cross validation for parameter tuning to avoid overfitting of data\n",
    "from sklearn.linear_model import LogisticRegressionCV\n",
    "model_cv=LogisticRegressionCV(10)\n",
    "model_cv.fit(X_train,y_train)\n",
    "\n"
   ]
  },
  {
   "cell_type": "code",
   "execution_count": 20,
   "id": "cbe2eb38",
   "metadata": {
    "execution": {
     "iopub.execute_input": "2021-09-27T06:20:21.316668Z",
     "iopub.status.busy": "2021-09-27T06:20:21.315643Z",
     "iopub.status.idle": "2021-09-27T06:20:21.368131Z",
     "shell.execute_reply": "2021-09-27T06:20:21.367552Z",
     "shell.execute_reply.started": "2021-09-27T06:19:23.732898Z"
    },
    "papermill": {
     "duration": 0.083031,
     "end_time": "2021-09-27T06:20:21.368286",
     "exception": false,
     "start_time": "2021-09-27T06:20:21.285255",
     "status": "completed"
    },
    "tags": []
   },
   "outputs": [
    {
     "data": {
      "text/plain": [
       "array([0.77578475, 0.80269058, 0.77130045, 0.78828829])"
      ]
     },
     "execution_count": 20,
     "metadata": {},
     "output_type": "execute_result"
    }
   ],
   "source": [
    "from sklearn.model_selection import cross_val_score\n",
    "model=LogisticRegression(C=10)\n",
    "scores=cross_val_score(model,X_train,y_train,cv=4)\n",
    "scores\n"
   ]
  }
 ],
 "metadata": {
  "kernelspec": {
   "display_name": "Python 3",
   "language": "python",
   "name": "python3"
  },
  "language_info": {
   "codemirror_mode": {
    "name": "ipython",
    "version": 3
   },
   "file_extension": ".py",
   "mimetype": "text/x-python",
   "name": "python",
   "nbconvert_exporter": "python",
   "pygments_lexer": "ipython3",
   "version": "3.7.10"
  },
  "papermill": {
   "default_parameters": {},
   "duration": 14.956078,
   "end_time": "2021-09-27T06:20:22.887141",
   "environment_variables": {},
   "exception": null,
   "input_path": "__notebook__.ipynb",
   "output_path": "__notebook__.ipynb",
   "parameters": {},
   "start_time": "2021-09-27T06:20:07.931063",
   "version": "2.3.3"
  }
 },
 "nbformat": 4,
 "nbformat_minor": 5
}
